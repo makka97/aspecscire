{
 "cells": [
  {
   "cell_type": "code",
   "execution_count": 1,
   "metadata": {
    "collapsed": true
   },
   "outputs": [],
   "source": [
    "import gdal\n",
    "import numpy as np\n",
    "import sys\n",
    "import argparse\n",
    "from sklearn.cluster import KMeans\n",
    "from matplotlib import pyplot as plt\n",
    "import pandas as pd\n",
    "# this allows GDAL to throw Python Exceptions\n",
    "gdal.UseExceptions()\n"
   ]
  },
  {
   "cell_type": "code",
   "execution_count": 5,
   "metadata": {
    "collapsed": true
   },
   "outputs": [],
   "source": [
    "src_ds = gdal.Open( \"/home/malavika/tharangini_formwork_09_27.tif\" )\n",
    "src_band = src_ds.GetRasterBand(1).ReadAsArray().astype(np.float).flatten()\n",
    "no_data_val = src_ds.GetRasterBand(1).GetNoDataValue()\n",
    "no_data_index = np.where(src_band==no_data_val)\n",
    "src_band_array = np.delete(src_band,no_data_index)\n"
   ]
  },
  {
   "cell_type": "code",
   "execution_count": 11,
   "metadata": {
    "collapsed": true
   },
   "outputs": [],
   "source": [
    "kmeans = sklearn.cluster.KMeans(n_clusters = 11).fit(src_band_array.reshape(-1,1))\n",
    "cluster_center = np.array(kmeans.cluster_centers_)"
   ]
  },
  {
   "cell_type": "code",
   "execution_count": 33,
   "metadata": {
    "collapsed": true
   },
   "outputs": [],
   "source": [
    "clr_file = pd.read_csv(\"/home/malavika/clrTxtFile.txt\", header=None, delim_whitespace=True)\n",
    "clr_file.loc[:10,0] = sorted(cluster_center)\n",
    "pd_clr_file = pd.DataFrame(clr_file)\n",
    "pd_clr_file.to_csv(\"/home/malavika/clr_file.txt\", sep = \" \", float_format='string', header=None, index=None)"
   ]
  },
  {
   "cell_type": "code",
   "execution_count": null,
   "metadata": {
    "collapsed": true
   },
   "outputs": [],
   "source": [
    "from sklearn.cluster import MiniBatchKMeans, KMeans\n",
    "scores = []\n",
    "for i in range(1,20):\n",
    "    scores.append(MiniBatchKMeans(n_clusters = i, batch_size = 1000).fit(src_band_array.reshape(-1,1)).score(src_band_array.reshape(-1,1)))\n",
    "plt.clf()\n",
    "plt.plot(range(1,20),scores)\n",
    "plt.show()"
   ]
  },
  {
   "cell_type": "code",
   "execution_count": 47,
   "metadata": {},
   "outputs": [
    {
     "name": "stdout",
     "output_type": "stream",
     "text": [
      "[]\n",
      "[ 110.41940645  112.65746118  112.80346475  113.13347282]\n",
      "[  1394   5780  26495 142507]\n"
     ]
    },
    {
     "data": {
      "image/png": "[encoded data removed]",
      "text/plain": [
       "<matplotlib.figure.Figure at 0x7fbf3d5f69e8>"
      ]
     },
     "metadata": {},
     "output_type": "display_data"
    }
   ],
   "source": [
    "import numpy as np\n",
    "from matplotlib import pyplot as plt\n",
    "import peakutils\n",
    "from peakutils.plot import plot as pplot\n",
    "from scipy.signal import find_peaks_cwt\n",
    "plt.clf()\n",
    "no_of_bins = int((src_band_array.max()-src_band_array.min())*1000)\n",
    "#plt.hist(src_band_array, bins = no_of_bins)\n",
    "data,bins = np.histogram(src_band_array, bins = no_of_bins)\n",
    "x = np.linspace(0, 11, no_of_bins)\n",
    "y = data\n",
    "plt.plot(x, y)\n",
    "peaks = peakutils.peak.indexes(y, thres=500, min_dist=0.001)\n",
    "indexes = find_peaks_cwt(y,np.arange(1,100))\n",
    "print(peaks)\n",
    "print(bins[indexes])\n",
    "print(data[indexes])\n",
    "xin = np.linspace(0, 11, len(data[indexes]))\n",
    "#plt.scatter(xin,data[indexes], c='r')\n",
    "plt.show()"
   ]
  },
  {
   "cell_type": "code",
   "execution_count": 12,
   "metadata": {},
   "outputs": [
    {
     "name": "stderr",
     "output_type": "stream",
     "text": [
      "INFO:DEM Dir is /home/malavika, DEM File is tharangini_formwork_09_27.tif DEM Name without extension is tharangini_formwork_09_27\n"
     ]
    },
    {
     "name": "stdout",
     "output_type": "stream",
     "text": [
      "[[112.43359577865316, '0', '0', '0', ''], [112.52984362205672, '128', '0', '0'], [112.62098701233788, '160', '82', '45'], [112.65972394582506, '255', '0', '0'], [112.73533956056912, '255', '160', '122'], [112.78257602871213, '255', '140', '0'], [112.8051998790229, '218', '165', '32'], [112.85676755616679, '255', '255', '0'], [112.97177129469229, '154', '205', '50'], [113.05809571939511, '0', '255', '0'], [113.08195888300412, '0', '128', '0'], [113.10192513473491, '60', '179', '113'], [113.11661281365684, '102', '205', '170'], [113.12908836544167, '0', '255', '255'], [113.1411332597761, '0', '139', '139'], [113.21491756399818, '0', '0', '255'], [113.29755422699513, '0', '0', '128'], [113.41159338637688, '128', '0', '128'], [113.54532387698869, '199', '21', '133'], [113.66053950146623, '255', '0', '255'], [113.83359577865316, '0', '0', '0']]\n"
     ]
    },
    {
     "name": "stderr",
     "output_type": "stream",
     "text": [
      "INFO:Output colorized and hillshaded DEM is at - /home/malavika/tharangini_formwork_09_27-crhs.tif\n",
      "INFO:Done\n"
     ]
    },
    {
     "name": "stdout",
     "output_type": "stream",
     "text": [
      "0 0\n"
     ]
    }
   ],
   "source": [
    "import csv\n",
    "import statistics\n",
    "rng = 0.7\n",
    "elevation = []\n",
    "with open(\"/home/malavika/clrspectrum.txt\") as csvfile:\n",
    "    reader = csv.reader(csvfile, delimiter=' ')\n",
    "    data = len(list(reader))\n",
    "kmeans = KMeans(n_clusters = data).fit(src_band_array.reshape(-1,1))\n",
    "cluster_center = np.array([x[0] for x in kmeans.cluster_centers_])\n",
    "center_index = kmeans.predict(src_band_array.reshape(-1,1))\n",
    "floor = cluster_center[statistics.mode(center_index)]\n",
    "\n",
    "range_array = src_band_array[(src_band_array<=floor+rng) & (src_band_array>=floor-rng)]\n",
    "kmeans_range = KMeans(n_clusters = data-2).fit(range_array.reshape(-1,1))\n",
    "cluster_center_range = np.array([x[0] for x in kmeans_range.cluster_centers_])\n",
    "elevation.extend(sorted(cluster_center_range.tolist()))\n",
    "elevation.insert(0,floor-rng)\n",
    "elevation.append(floor+rng)\n",
    "\n",
    "import combine_hillshaded_colorized\n",
    "import create_colorized_dem\n",
    "import csv\n",
    "\n",
    "arr = []\n",
    "new_arr=[]\n",
    "with open(\"/home/malavika/clrspectrum.txt\") as csvfile:\n",
    "    reader = csv.reader(csvfile, delimiter=' ')\n",
    "    for row in reader:\n",
    "        arr.append(row)\n",
    "#print(arr)\n",
    "x = len(elevation)\n",
    "y = len(arr)/x\n",
    "for i in range(x):\n",
    "    j = int(y*i)\n",
    "    arr[j].insert(0,elevation[i])\n",
    "    new_arr.append(arr[j][:])\n",
    "print(new_arr)\n",
    "new_arr.append(['nv',000,000,000])\n",
    "\n",
    "with open(\"/home/malavika/kmeans_21_clrspectrum.txt\",'w') as csvfile:\n",
    "    writer = csv.writer(csvfile, delimiter =' ')\n",
    "    for ar in new_arr:\n",
    "        writer.writerow(ar)\n",
    "create_colorized_dem.createColorAndHSDems(\"/home/malavika/tharangini_formwork_09_27.tif\", \"/home/malavika/kmeans_21_clrspectrum.txt\")"
   ]
  },
  {
   "cell_type": "code",
   "execution_count": 4,
   "metadata": {},
   "outputs": [
    {
     "name": "stdout",
     "output_type": "stream",
     "text": [
      "185.821685791\n",
      "42.4747772217\n",
      "143346\n",
      "[ 101.18827765  159.21201191  114.76551646  127.74705789  106.4749072 ]\n"
     ]
    },
    {
     "data": {
      "image/png": "[encoded data removed]",
      "text/plain": [
       "<matplotlib.figure.Figure at 0x7fec5bad3a90>"
      ]
     },
     "metadata": {},
     "output_type": "display_data"
    }
   ],
   "source": [
    "import numpy as np\n",
    "from matplotlib import pyplot as plt\n",
    "from sklearn.cluster import KMeans\n",
    "print(src_band_array.max())\n",
    "print(src_band_array.min())\n",
    "no_of_bins = int((src_band_array.max()-src_band_array.min())*1000)\n",
    "print(no_of_bins)\n",
    "kmeans = KMeans(n_clusters = 5).fit(src_band_array.reshape(-1,1))\n",
    "cluster_center = np.array([x[0] for x in kmeans.cluster_centers_])\n",
    "print(cluster_center)\n",
    "plt.clf()\n",
    "plt.hist(src_band_array, bins = no_of_bins)\n",
    "y = np.zeros(5, dtype = int)\n",
    "plt.scatter(cluster_center, y, c = 'r')\n",
    "plt.show()"
   ]
  },
  {
   "cell_type": "code",
   "execution_count": null,
   "metadata": {
    "collapsed": true
   },
   "outputs": [],
   "source": [
    "from sklearn.cluster import MiniBatchKMeans, KMeans\n",
    "import csv\n",
    "import statistics\n",
    "elevation = []\n",
    "rng = 0.7\n",
    "with open(\"/home/malavika/clrspectrum.txt\") as csvfile:\n",
    "    reader = csv.reader(csvfile, delimiter=' ')\n",
    "    data = len(list(reader))\n",
    "kmeans = MiniBatchKMeans(n_clusters = data, batch_size = 5000).fit(src_band_array.reshape(-1,1))\n",
    "cluster_center = np.array([x[0] for x in kmeans.cluster_centers_])\n",
    "center_index = kmeans.predict(src_band_array.reshape(-1,1))\n",
    "floor = cluster_center[statistics.mode(center_index)]\n",
    "\n",
    "range_array = src_band_array[(src_band_array<=floor+rng) & (src_band_array>=floor-rng)]\n",
    "kmeans_range = MiniBatchKMeans(n_clusters = data-2, batch_size = 5000).fit(range_array.reshape(-1,1))\n",
    "cluster_center_range = np.array([x[0] for x in kmeans_range.cluster_centers_])\n",
    "elevation.extend(sorted(cluster_center_range.tolist()))\n",
    "elevation.insert(0,floor-rng)\n",
    "elevation.append(floor+rng)\n",
    "\n",
    "import combine_hillshaded_colorized\n",
    "import create_colorized_dem\n",
    "import csv\n",
    "elevation = sorted(cen)\n",
    "elevation.insert(0,src_band_array.min())\n",
    "elevation.append(src_band_array.max())\n",
    "\n",
    "arr = []\n",
    "new_arr=[]\n",
    "with open(\"/home/malavika/clrspectrum.txt\") as csvfile:\n",
    "    reader = csv.reader(csvfile, delimiter=' ')\n",
    "    for row in reader:\n",
    "        arr.append(row)\n",
    "#print(arr)\n",
    "x = len(elevation)\n",
    "y = len(arr)/x\n",
    "for i in range(x):\n",
    "    j = int(y*i)\n",
    "    arr[j].insert(0,elevation[i])\n",
    "    new_arr.append(arr[j][:])\n",
    "print(new_arr)\n",
    "new_arr.append(['nv',000,000,000])\n",
    "\n",
    "with open(\"/home/malavika/minibatch_clrspectrum.txt\",'w') as csvfile:\n",
    "    writer = csv.writer(csvfile, delimiter =' ')\n",
    "    for ar in new_arr:\n",
    "        writer.writerow(ar)\n",
    "create_colorized_dem.createColorAndHSDems(\"/home/malavika/tharangini_formwork_09_27.tif\", \"/home/malavika/minibatch_clrspectrum.txt\")"
   ]
  }
 ],
 "metadata": {
  "kernelspec": {
   "display_name": "Python [conda env:vimana]",
   "language": "python",
   "name": "conda-env-vimana-py"
  },
  "language_info": {
   "codemirror_mode": {
    "name": "ipython",
    "version": 3
   },
   "file_extension": ".py",
   "mimetype": "text/x-python",
   "name": "python",
   "nbconvert_exporter": "python",
   "pygments_lexer": "ipython3",
   "version": "3.5.3"
  }
 },
 "nbformat": 4,
 "nbformat_minor": 2
}
