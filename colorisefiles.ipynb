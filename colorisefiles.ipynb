{
 "cells": [
  {
   "cell_type": "code",
   "execution_count": 6,
   "metadata": {
    "collapsed": true
   },
   "outputs": [],
   "source": [
    "import gdal\n",
    "import numpy as np\n",
    "import sys\n",
    "import argparse\n",
    "from sklearn.cluster import KMeans\n",
    "from matplotlib import pyplot as plt\n",
    "import pandas as pd\n",
    "# this allows GDAL to throw Python Exceptions\n",
    "gdal.UseExceptions()\n"
   ]
  },
  {
   "cell_type": "code",
   "execution_count": 16,
   "metadata": {
    "collapsed": true
   },
   "outputs": [],
   "source": [
    "import subprocess\n",
    "import glob\n",
    "files = glob.glob(\"/home/malavika/test/Kmeans/*\")\n",
    "for file in files:\n",
    "    subprocess.call([\"python\", \"formwork.py\", file, \"/home/malavika/clrTxtFile.txt\", file.replace(\".tif\", \"clrTextFile_output.txt\"), \"--k\", \"8\", \"--flag\"])"
   ]
  },
  {
   "cell_type": "code",
   "execution_count": 7,
   "metadata": {},
   "outputs": [
    {
     "name": "stdout",
     "output_type": "stream",
     "text": [
      "11\n"
     ]
    }
   ],
   "source": [
    "import csv\n",
    "with open(\"/home/malavika/clrTxtFile.txt\") as csvfile:\n",
    "    reader = csv.reader(csvfile, delimiter=' ')\n",
    "    data = list(reader)\n",
    "    print(len(data))"
   ]
  },
  {
   "cell_type": "code",
   "execution_count": 4,
   "metadata": {
    "collapsed": true
   },
   "outputs": [],
   "source": [
    "src_ds = gdal.Open( \"/home/malavika/tharangini_dems/tharangini_formwork_2017_09_27_dem_global.tif\" )\n",
    "src_band = src_ds.GetRasterBand(1).ReadAsArray().astype(np.float).flatten()\n",
    "no_data_val = src_ds.GetRasterBand(1).GetNoDataValue()\n",
    "no_data_index = np.where(src_band==no_data_val)\n",
    "src_band_array = np.delete(src_band,no_data_index)"
   ]
  },
  {
   "cell_type": "code",
   "execution_count": 13,
   "metadata": {},
   "outputs": [
    {
     "name": "stdout",
     "output_type": "stream",
     "text": [
      "[7 1 1 ..., 5 5 2]\n",
      "[[ 113.11488313]\n",
      " [ 104.19888916]\n",
      " [ 110.43056754]\n",
      " [ 112.79382647]\n",
      " [ 107.39011746]\n",
      " [ 101.4500065 ]\n",
      " [ 115.96328311]\n",
      " [ 108.914966  ]\n",
      " [ 111.46652861]\n",
      " [ 113.49764233]\n",
      " [ 112.6311482 ]]\n"
     ]
    }
   ],
   "source": [
    "kmeans = KMeans(n_clusters = 11).fit(src_band_array.reshape(-1,1))\n",
    "cluster_center = np.array(kmeans.cluster_centers_)\n",
    "center_index = kmeans.predict(src_band_array.reshape(-1,1))\n",
    "print(center_index)\n",
    "print(cluster_center)"
   ]
  },
  {
   "cell_type": "code",
   "execution_count": 14,
   "metadata": {},
   "outputs": [
    {
     "data": {
      "text/plain": [
       "array([ 113.11488313])"
      ]
     },
     "execution_count": 14,
     "metadata": {},
     "output_type": "execute_result"
    }
   ],
   "source": [
    "import statistics\n",
    "statistics.mode(center_index)\n",
    "cluster_center[statistics.mode(center_index)]"
   ]
  },
  {
   "cell_type": "code",
   "execution_count": 23,
   "metadata": {},
   "outputs": [
    {
     "data": {
      "text/plain": [
       "0"
      ]
     },
     "execution_count": 23,
     "metadata": {},
     "output_type": "execute_result"
    }
   ],
   "source": [
    "import subprocess\n",
    "import glob\n",
    "#files = glob.glob(\"/home/malavika/test/tharangini_dems/tha*\")\n",
    "#for file in files:\n",
    "#    subprocess.call([\"python\", \"create_colorized_dem.py\", \"/home/malavika/test/Formwork/clrTextFileFormwork_09_04.txt\", \"tharangini_2017_09_04_dem_global.tif\"])\n",
    "    \n",
    "subprocess.call([\"python\", \"create_colorized_dem.py\", \"/home/malavika/test/Formwork/clrTextFileFormwork_09_27.txt\", \"/home/malavika/test/Formwork/tharangini_formwork_2017_09_27_dem_global.tif\"])"
   ]
  },
  {
   "cell_type": "code",
   "execution_count": null,
   "metadata": {
    "collapsed": true
   },
   "outputs": [],
   "source": []
  }
 ],
 "metadata": {
  "kernelspec": {
   "display_name": "Python [conda env:vimana]",
   "language": "python",
   "name": "conda-env-vimana-py"
  },
  "language_info": {
   "codemirror_mode": {
    "name": "ipython",
    "version": 3
   },
   "file_extension": ".py",
   "mimetype": "text/x-python",
   "name": "python",
   "nbconvert_exporter": "python",
   "pygments_lexer": "ipython3",
   "version": "3.5.3"
  }
 },
 "nbformat": 4,
 "nbformat_minor": 2
}
