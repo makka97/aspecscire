{
 "cells": [
  {
   "cell_type": "code",
   "execution_count": 61,
   "metadata": {
    "collapsed": true
   },
   "outputs": [],
   "source": [
    "import subprocess\n",
    "import glob"
   ]
  },
  {
   "cell_type": "code",
   "execution_count": 66,
   "metadata": {},
   "outputs": [],
   "source": [
    "files = glob.glob(\"/home/malavika/thecolumn_dems/*\")\n",
    "i = 0\n",
    "for file in files:\n",
    "    if(i%4 == 0):\n",
    "        subprocess.call([\"python\", \"formwork.py\", file, file.replace(\".tif\",\"-colorised.tif\"), \"--k\", \"11\", \"--max_value\", \"103\", \"--min_value\", \"93\"])\n",
    "    i = i + 1 "
   ]
  },
  {
   "cell_type": "code",
   "execution_count": null,
   "metadata": {
    "collapsed": true
   },
   "outputs": [],
   "source": []
  }
 ],
 "metadata": {
  "kernelspec": {
   "display_name": "Python [conda env:vimana]",
   "language": "python",
   "name": "conda-env-vimana-py"
  },
  "language_info": {
   "codemirror_mode": {
    "name": "ipython",
    "version": 3
   },
   "file_extension": ".py",
   "mimetype": "text/x-python",
   "name": "python",
   "nbconvert_exporter": "python",
   "pygments_lexer": "ipython3",
   "version": "3.5.3"
  }
 },
 "nbformat": 4,
 "nbformat_minor": 2
}
