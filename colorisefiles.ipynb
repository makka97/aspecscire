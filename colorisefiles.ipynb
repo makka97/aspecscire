{
 "cells": [
  {
   "cell_type": "code",
   "execution_count": 1,
   "metadata": {
    "collapsed": true
   },
   "outputs": [],
   "source": [
    "import gdal\n",
    "import numpy as np\n",
    "import sys\n",
    "import argparse\n",
    "from sklearn.cluster import KMeans\n",
    "from matplotlib import pyplot as plt\n",
    "import pandas as pd\n",
    "# this allows GDAL to throw Python Exceptions\n",
    "gdal.UseExceptions()\n"
   ]
  },
  {
   "cell_type": "code",
   "execution_count": 7,
   "metadata": {},
   "outputs": [
    {
     "name": "stdout",
     "output_type": "stream",
     "text": [
      "/home/malavika/test/Kmeans/tharangini_sitestatus_2017_08_30_rawdem_global_clrTextFile_output.txt\n",
      "/home/malavika/test/Kmeans/thecolumns_2017_04_29_dem_global_clrTextFile_output.txt\n",
      "/home/malavika/test/Kmeans/thecolumns_2017_05_20_dem_global_clrTextFile_output.txt\n",
      "/home/malavika/test/Kmeans/thecolumns_2017_07_04_dem_global_clrTextFile_output.txt\n",
      "/home/malavika/test/Kmeans/tharangini_sitestatus_2017_08_23_rawdem_global_clrTextFile_output.txt\n",
      "/home/malavika/test/Kmeans/tharangini_sitestatus_2017_08_14-rawdem_global_clrTextFile_output.txt\n"
     ]
    }
   ],
   "source": [
    "import subprocess\n",
    "#import glob\n",
    "#files = glob.glob(\"/home/malavika/test/Kmeans/*\")\n",
    "#for file in files:\n",
    " #   out = file.replace(\".tif\", \"_clrTextFile_output.txt\"))\n",
    "subprocess.call([\"python\", \"formwork.py\", file, \"/home/malavika/clrTxtFile.txt\", file.replace(\".tif\", \"_clrTextFile_output.txt\"), \"--k\", \"8\", \"--flag\"])"
   ]
  },
  {
   "cell_type": "code",
   "execution_count": 2,
   "metadata": {
    "collapsed": true
   },
   "outputs": [],
   "source": [
    "src_ds = gdal.Open( \"/home/malavika/tharangini_formwork_09_27.tif\" )\n",
    "src_band = src_ds.GetRasterBand(1).ReadAsArray().astype(np.float).flatten()\n",
    "no_data_val = src_ds.GetRasterBand(1).GetNoDataValue()\n",
    "no_data_index = np.where(src_band==no_data_val)\n",
    "src_band_array = np.delete(src_band,no_data_index)"
   ]
  },
  {
   "cell_type": "code",
   "execution_count": 69,
   "metadata": {},
   "outputs": [
    {
     "name": "stdout",
     "output_type": "stream",
     "text": [
      "21\n",
      "882.864346259\n"
     ]
    },
    {
     "name": "stderr",
     "output_type": "stream",
     "text": [
      "INFO:DEM Dir is /home/malavika/test/Formwork, DEM File is tharangini_formwork_06_08.tif DEM Name without extension is tharangini_formwork_06_08\n"
     ]
    },
    {
     "name": "stdout",
     "output_type": "stream",
     "text": [
      "[882.16434625871091, 882.2116493173468, 882.2950013271329, 882.3575686498714, 882.4137329082404, 882.4686331987361, 882.5286638940349, 882.5905554296756, 882.6669230025813, 882.7359386491501, 882.7861346087172, 882.8212655009197, 882.8508554887268, 882.8752502087557, 882.8995352490933, 882.923921497911, 882.951789310516, 882.9791243571373, 883.0087983228669, 883.0433317882283, 883.564346258711]\n",
      "21\n",
      "0 0\n",
      "0 8192\n"
     ]
    },
    {
     "name": "stderr",
     "output_type": "stream",
     "text": [
      "INFO:Output colorized and hillshaded DEM is at - /home/malavika/test/Formwork/tharangini_formwork_06_08-crhs.tif\n",
      "INFO:Done\n"
     ]
    }
   ],
   "source": [
    "import combine_hillshaded_colorized\n",
    "import create_colorized_dem\n",
    "import csv\n",
    "import statistics\n",
    "from sklearn.cluster import KMeans\n",
    "rng = 0.7\n",
    "elevation = []\n",
    "\n",
    "with open(\"/home/malavika/clrspectrum.txt\") as csvfile:\n",
    "    reader = csv.reader(csvfile, delimiter=' ')\n",
    "    data = len(list(reader))\n",
    "print(data)\n",
    "kmeans = KMeans(n_clusters = data).fit(src_band_array.reshape(-1,1))\n",
    "cluster_center = np.array([x[0] for x in kmeans.cluster_centers_])\n",
    "center_index = kmeans.predict(src_band_array.reshape(-1,1))\n",
    "floor = cluster_center[statistics.mode(center_index)]\n",
    "print(floor)\n",
    "range_array = src_band_array[(src_band_array<=floor+rng) & (src_band_array>=floor-rng)]\n",
    "#print(sorted(range_array))\n",
    "kmeans_range = KMeans(n_clusters = data-2).fit(range_array.reshape(-1,1))\n",
    "cluster_center_range = np.array([x[0] for x in kmeans_range.cluster_centers_])\n",
    "elevation.extend(sorted(cluster_center_range.tolist()))\n",
    "#print(elevation)\n",
    "elevation.insert(0,floor-rng)\n",
    "#elevation.insert(0,cluster_center_range.min() - 0.01)\n",
    "elevation.append(floor+rng)\n",
    "#elevation.append(cluster_center_range.max() + 0.01)\n",
    "print(elevation)\n",
    "print(len(elevation))\n",
    "arr = []\n",
    "new_arr=[]\n",
    "with open(\"/home/malavika/clrspectrum.txt\") as csvfile:\n",
    "    reader = csv.reader(csvfile, delimiter=' ')\n",
    "    for row in reader:\n",
    "        arr.append(row)\n",
    "#print(arr)\n",
    "x = len(elevation)\n",
    "y = len(arr)/x\n",
    "for i in range(x):\n",
    "    j = int(y*i)\n",
    "    arr[j].insert(0,elevation[i])\n",
    "    new_arr.append(arr[j][:])\n",
    "#print(new_arr)\n",
    "new_arr.append(['nv',000,000,000])\n",
    "\n",
    "with open(\"/home/malavika/test/Formwork/clrspectrum_06_08_kmeans.txt\",'w') as csvfile:\n",
    "    writer = csv.writer(csvfile, delimiter =' ')\n",
    "    for ar in new_arr:\n",
    "        writer.writerow(ar)\n",
    "create_colorized_dem.createColorAndHSDems(\"/home/malavika/test/Formwork/tharangini_formwork_06_08.tif\", \"/home/malavika/test/Formwork/clrspectrum_06_08_kmeans.txt\")"
   ]
  },
  {
   "cell_type": "code",
   "execution_count": 56,
   "metadata": {},
   "outputs": [
    {
     "name": "stderr",
     "output_type": "stream",
     "text": [
      "INFO:DEM Dir is /home/malavika/test/Formwork, DEM File is tharangini_formwork_09_27.tif DEM Name without extension is tharangini_formwork_09_27\n",
      "INFO:Output colorized and hillshaded DEM is at - /home/malavika/test/Formwork/tharangini_formwork_09_27-crhs.tif\n",
      "INFO:Done\n"
     ]
    },
    {
     "name": "stdout",
     "output_type": "stream",
     "text": [
      "0 0\n"
     ]
    }
   ],
   "source": [
    "import combine_hillshaded_colorized\n",
    "import create_colorized_dem\n",
    "create_colorized_dem.createColorAndHSDems(\"/home/malavika/test/Formwork/tharangini_formwork_09_27.tif\", \"/home/malavika/test/Formwork/out_clrspectrum_09_27_2.txt\")"
   ]
  },
  {
   "cell_type": "code",
   "execution_count": 67,
   "metadata": {},
   "outputs": [
    {
     "name": "stderr",
     "output_type": "stream",
     "text": [
      "INFO:DEM Dir is /home/malavika/test/Formwork, DEM File is tharangini_formwork_09_04.tif DEM Name without extension is tharangini_formwork_09_04\n"
     ]
    },
    {
     "name": "stdout",
     "output_type": "stream",
     "text": [
      "[116.11999999999999, 116.02, 115.97, 115.945, 115.92, 115.915, 115.57499999999999, 115.57, 115.67, 115.37, 115.36500000000001]\n",
      "[115.36500000000001, 115.37, 115.67, 115.57, 115.57499999999999, 115.915, 115.92, 115.945, 115.97, 116.02, 116.11999999999999]\n",
      "0 0\n",
      "0 8192\n",
      "8192 0\n",
      "8192 8192\n"
     ]
    },
    {
     "name": "stderr",
     "output_type": "stream",
     "text": [
      "INFO:Output colorized and hillshaded DEM is at - /home/malavika/test/Formwork/tharangini_formwork_09_04-crhs.tif\n",
      "INFO:Done\n"
     ]
    }
   ],
   "source": [
    "layers= {\n",
    "\"floor\" : 115.97,\n",
    "\"floor_tolerance\" : 0.05,\n",
    "\"sunken_floor\" : 0.05,\n",
    "\"sunken_floor_tolerance\" : 0.005,\n",
    "\"primary_beam\" : 0.4,\n",
    "\"primary_beam_tolerance\" : 0.005,\n",
    "\"secondary_beam\" : 0.6,\n",
    "\"secondary_beam_tolerance\" : 0.005\n",
    "}\n",
    "\n",
    "elevation = []\n",
    "\n",
    "#layers[\"floor_tolerance\"] = layers.get(\"floor_toelranve\", 0.05)\n",
    "\n",
    "elevation.append(layers[\"floor\"] + layers.get(\"floor_tolerance\", 0.05) + 0.1)\n",
    "\n",
    "elevation.append(layers[\"floor\"] + layers.get(\"floor_tolerance\", 0.05))\n",
    "elevation.append(layers[\"floor\"])\n",
    "\n",
    "if (layers[\"floor\"] - layers.get(\"floor_tolerance\", 0.05)) > (layers[\"floor\"] - layers[\"sunken_floor\"] + layers.get(\"sunken_floor_tolerance\", 0.005)):\n",
    "\n",
    "    elevation.append(layers[\"floor\"] - layers.get(\"floor_tolerance\", 0.05))\n",
    "    elevation.append(layers[\"floor\"] - layers[\"sunken_floor\"] + layers.get(\"sunken_floor_tolerance\", 0.005))\n",
    "\n",
    "else:\n",
    "    elevation.append((2*layers[\"floor\"] - layers[\"sunken_floor\"])/2)\n",
    "    \n",
    "elevation.append(layers[\"floor\"] - layers[\"sunken_floor\"])\n",
    "\n",
    "if (layers[\"floor\"] - layers[\"sunken_floor\"] - layers.get(\"sunken_floor_tolerance\", 0.005)) > (layers[\"floor\"] - layers[\"primary_beam\"] + layers.get(\"primary_beam_tolerance\", 0.005)):\n",
    "    elevation.append(layers[\"floor\"] - layers[\"sunken_floor\"] - layers.get(\"sunken_floor_tolerance\", 0.005))\n",
    "    elevation.append(layers[\"floor\"] - layers[\"primary_beam\"] + layers.get(\"primary_beam_tolerance\", 0.005))\n",
    "else:\n",
    "    elevation.append((2*layers[\"floor\"] - layers[\"primary_beam\"])/2)\n",
    "    \n",
    "elevation.append(layers[\"floor\"] - layers[\"primary_beam\"])\n",
    "\n",
    "if (\"secondary_beam\" in layers) == False:\n",
    "    elevation.append(layers[\"floor\"] - layers[\"primary_beam\"] - layers.get(\"primary_beam_tolerance\",0.005))\n",
    "else:\n",
    "    if (layers[\"floor\"] - layers[\"primary_beam\"] - layers.get(\"primary_beam_tolerance\",0.005)) > (layers[\"floor\"] + layers[\"secondary_beam\"] + layers.get(\"secondary_beam_tolerance\",0.005)):\n",
    "        elevation.append(layers[\"floor\"] - layers[\"primary_beam\"] - layers.get(\"primary_beam_tolerance\",0.005))\n",
    "        elevation.append(layers[\"floor\"] - layers[\"secondary_beam\"] + layers.get(\"secondary_beam_tolerance\",0.005))\n",
    "    else:\n",
    "        elevation.append((2*layers[\"floor\"] - layers[\"secondary_beam\"])/2)\n",
    "        \n",
    "    elevation.append(layers[\"floor\"] - layers[\"secondary_beam\"])\n",
    "    elevation.append(layers[\"floor\"] - layers[\"secondary_beam\"] - layers.get(\"secondary_beam_tolerance\",0.005))\n",
    "\n",
    "print(elevation)\n",
    "elevation = list(reversed(elevation))\n",
    "print(elevation)\n",
    "\n",
    "arr = []\n",
    "new_arr=[]\n",
    "with open(\"/home/malavika/clrspectrum.txt\") as csvfile:\n",
    "    reader = csv.reader(csvfile, delimiter=' ')\n",
    "    for row in reader:\n",
    "        arr.append(row)\n",
    "#print(arr)\n",
    "x = len(elevation)\n",
    "y = len(arr)/x\n",
    "for i in range(x):\n",
    "    j = int(y*i)\n",
    "    arr[j].insert(0,elevation[i])\n",
    "    new_arr.append(arr[j][:])\n",
    "#print(new_arr)\n",
    "new_arr.append(['nv',000,000,000])\n",
    "\n",
    "with open(\"/home/malavika/test/Formwork/clrspectrum_09_04_floor.txt\",'w') as csvfile:\n",
    "    writer = csv.writer(csvfile, delimiter =' ')\n",
    "    for ar in new_arr:\n",
    "        writer.writerow(ar)\n",
    "create_colorized_dem.createColorAndHSDems(\"/home/malavika/test/Formwork/tharangini_formwork_09_04.tif\", \"/home/malavika/test/Formwork/clrspectrum_09_04_floor.txt\")"
   ]
  },
  {
   "cell_type": "code",
   "execution_count": 65,
   "metadata": {},
   "outputs": [
    {
     "name": "stderr",
     "output_type": "stream",
     "text": [
      "INFO:DEM Dir is /home/malavika/test/Formwork, DEM File is tharangini_formwork_09_04.tif DEM Name without extension is tharangini_formwork_09_04\n"
     ]
    },
    {
     "name": "stdout",
     "output_type": "stream",
     "text": [
      "[115.43500000000002, 115.44000000000001, 115.44500000000001, 115.635, 115.64, 115.645, 115.98500000000001, 115.99000000000001, 115.995, 116.04, 116.09, 116.19]\n",
      "0 0\n",
      "0 8192\n",
      "8192 0\n",
      "8192 8192\n"
     ]
    },
    {
     "name": "stderr",
     "output_type": "stream",
     "text": [
      "INFO:Output colorized and hillshaded DEM is at - /home/malavika/test/Formwork/tharangini_formwork_09_04-crhs.tif\n",
      "INFO:Done\n"
     ]
    }
   ],
   "source": [
    "layers= {\n",
    "\"floor\" : 116.04,\n",
    "\"floor_tolerance\" : 0.05,\n",
    "\"sunken_floor\" : 0.05,\n",
    "\"sunken_floor_tolerance\" : 0.005,\n",
    "\"primary_beam\" : 0.4,\n",
    "\"primary_beam_tolerance\" : 0.005,\n",
    "\"secondary_beam\" : 0.6,\n",
    "\"secondary_beam_tolerance\" : 0.005\n",
    "}\n",
    "\n",
    "elevation = []\n",
    "\n",
    "#layers[\"floor_tolerance\"] = layers.get(\"floor_toelranve\", 0.05)\n",
    "\n",
    "elevation.append(layers[\"floor\"] + layers.get(\"floor_tolerance\", 0.05) + 0.1)\n",
    "elevation.append(layers[\"floor\"] + layers.get(\"floor_tolerance\", 0.05))\n",
    "elevation.append(layers[\"floor\"])\n",
    "elevation.append(layers[\"floor\"] - layers.get(\"floor_tolerance\", 0.05))\n",
    "elevation.append(layers[\"floor\"] - layers[\"sunken_floor\"] + layers.get(\"sunken_floor_tolerance\", 0.005))\n",
    "elevation.append(layers[\"floor\"] - layers[\"sunken_floor\"])\n",
    "elevation.append(layers[\"floor\"] - layers[\"sunken_floor\"] - layers.get(\"sunken_floor_tolerance\", 0.005))\n",
    "elevation.append(layers[\"floor\"] - layers[\"primary_beam\"] + layers.get(\"primary_beam_tolerance\", 0.005))\n",
    "elevation.append(layers[\"floor\"] - layers[\"primary_beam\"])\n",
    "elevation.append(layers[\"floor\"] - layers[\"primary_beam\"] - layers.get(\"primary_beam_tolerance\",0.005))\n",
    "if (\"secondary_beam\" in layers) == True:\n",
    "    elevation.append(layers[\"floor\"] - layers[\"secondary_beam\"] + layers.get(\"secondary_beam_tolerance\",0.005))\n",
    "    elevation.append(layers[\"floor\"] - layers[\"secondary_beam\"])\n",
    "    elevation.append(layers[\"floor\"] - layers[\"secondary_beam\"] - layers.get(\"secondary_beam_tolerance\",0.005))\n",
    "\n",
    "elevation = sorted(list(set(elevation)))\n",
    "print(elevation)\n",
    "\n",
    "arr = []\n",
    "new_arr=[]\n",
    "with open(\"/home/malavika/clrspectrum.txt\") as csvfile:\n",
    "    reader = csv.reader(csvfile, delimiter=' ')\n",
    "    for row in reader:\n",
    "        arr.append(row)\n",
    "#print(arr)\n",
    "x = len(elevation)\n",
    "y = len(arr)/x\n",
    "for i in range(x):\n",
    "    j = int(y*i)\n",
    "    arr[j].insert(0,elevation[i])\n",
    "    new_arr.append(arr[j][:])\n",
    "#print(new_arr)\n",
    "new_arr.append(['nv',000,000,000])\n",
    "\n",
    "with open(\"/home/malavika/test/Formwork/clrspectrum_09_04_userip_proper.txt\",'w') as csvfile:\n",
    "    writer = csv.writer(csvfile, delimiter =' ')\n",
    "    for ar in new_arr:\n",
    "        writer.writerow(ar)\n",
    "create_colorized_dem.createColorAndHSDems(\"/home/malavika/test/Formwork/tharangini_formwork_09_04.tif\", \"/home/malavika/test/Formwork/clrspectrum_09_04_userip_proper.txt\")"
   ]
  },
  {
   "cell_type": "code",
   "execution_count": 14,
   "metadata": {},
   "outputs": [
    {
     "name": "stdout",
     "output_type": "stream",
     "text": [
      "(array([       9,       11,       17, ..., 13825076, 13825078, 13825085]),)\n"
     ]
    }
   ],
   "source": [
    "from scipy.signal import argrelextrema\n",
    "centers = argrelextrema(range_array, np.greater)\n",
    "print(centers)"
   ]
  },
  {
   "cell_type": "code",
   "execution_count": 9,
   "metadata": {},
   "outputs": [
    {
     "ename": "ImportError",
     "evalue": "No module named 'peakutils'",
     "output_type": "error",
     "traceback": [
      "\u001b[0;31m---------------------------------------------------------------------------\u001b[0m",
      "\u001b[0;31mImportError\u001b[0m                               Traceback (most recent call last)",
      "\u001b[0;32m<ipython-input-9-6709ab6ca32e>\u001b[0m in \u001b[0;36m<module>\u001b[0;34m()\u001b[0m\n\u001b[1;32m      1\u001b[0m \u001b[0;32mimport\u001b[0m \u001b[0mnumpy\u001b[0m \u001b[0;32mas\u001b[0m \u001b[0mnp\u001b[0m\u001b[0;34m\u001b[0m\u001b[0m\n\u001b[1;32m      2\u001b[0m \u001b[0;32mfrom\u001b[0m \u001b[0mmatplotlib\u001b[0m \u001b[0;32mimport\u001b[0m \u001b[0mpyplot\u001b[0m \u001b[0;32mas\u001b[0m \u001b[0mplt\u001b[0m\u001b[0;34m\u001b[0m\u001b[0m\n\u001b[0;32m----> 3\u001b[0;31m \u001b[0;32mimport\u001b[0m \u001b[0mpeakutils\u001b[0m\u001b[0;34m\u001b[0m\u001b[0m\n\u001b[0m\u001b[1;32m      4\u001b[0m \u001b[0mplt\u001b[0m\u001b[0;34m.\u001b[0m\u001b[0mclf\u001b[0m\u001b[0;34m(\u001b[0m\u001b[0;34m)\u001b[0m\u001b[0;34m\u001b[0m\u001b[0m\n\u001b[1;32m      5\u001b[0m \u001b[0mplt\u001b[0m\u001b[0;34m.\u001b[0m\u001b[0mhist\u001b[0m\u001b[0;34m(\u001b[0m\u001b[0mrange_array\u001b[0m\u001b[0;34m,\u001b[0m \u001b[0mbins\u001b[0m \u001b[0;34m=\u001b[0m \u001b[0;36m21\u001b[0m\u001b[0;34m)\u001b[0m\u001b[0;34m\u001b[0m\u001b[0m\n",
      "\u001b[0;31mImportError\u001b[0m: No module named 'peakutils'"
     ]
    }
   ],
   "source": [
    "import numpy as np\n",
    "from matplotlib import pyplot as plt\n",
    "import peakutils\n",
    "plt.clf()\n",
    "plt.hist(range_array, bins = 21)\n",
    "data = np.hist(range_array, bins = 21)\n",
    "plt.show()\n",
    "peaks = peakutils.peak.indexes(data, thres=5000, min_dist=0.01)\n",
    "print(data[peaks])"
   ]
  },
  {
   "cell_type": "code",
   "execution_count": 3,
   "metadata": {},
   "outputs": [
    {
     "data": {
      "image/png": "[encoded data removed]",
      "text/plain": [
       "<matplotlib.figure.Figure at 0x7f4e449eca20>"
      ]
     },
     "metadata": {},
     "output_type": "display_data"
    }
   ],
   "source": [
    "scores = []\n",
    "for i in range(1,20):\n",
    "    scores.append(KMeans(n_clusters = i).fit(src_band_array.reshape(-1,1)).score(src_band_array.reshape(-1,1)))\n",
    "plt.clf()\n",
    "plt.plot(range(1,20),scores)\n",
    "plt.show()"
   ]
  },
  {
   "cell_type": "code",
   "execution_count": 8,
   "metadata": {},
   "outputs": [
    {
     "name": "stdout",
     "output_type": "stream",
     "text": [
      "185.821685791\n",
      "42.4747772217\n",
      "143346\n",
      "[ 107.97022232  159.05211103  101.69974582  120.76450787]\n"
     ]
    },
    {
     "data": {
      "image/png": "[encoded data removed]",
      "text/plain": [
       "<matplotlib.figure.Figure at 0x7f1054a7c518>"
      ]
     },
     "metadata": {},
     "output_type": "display_data"
    }
   ],
   "source": [
    "import numpy as np\n",
    "from matplotlib import pyplot as plt\n",
    "from sklearn.cluster import KMeans\n",
    "print(src_band_array.max())\n",
    "print(src_band_array.min())\n",
    "no_of_bins = int((src_band_array.max()-src_band_array.min())*1000)\n",
    "print(no_of_bins)\n",
    "kmeans = KMeans(n_clusters = 4).fit(src_band_array.reshape(-1,1))\n",
    "cluster_center = np.array([x[0] for x in kmeans.cluster_centers_])\n",
    "print(cluster_center)\n",
    "plt.clf()\n",
    "plt.hist(src_band_array, bins = no_of_bins)\n",
    "y = np.zeros(4, dtype = int)\n",
    "plt.scatter(cluster_center, y, c = 'r')\n",
    "plt.show()"
   ]
  },
  {
   "cell_type": "code",
   "execution_count": 6,
   "metadata": {},
   "outputs": [
    {
     "data": {
      "image/png": "[encoded data removed]",
      "text/plain": [
       "<matplotlib.figure.Figure at 0x7f1010ec5240>"
      ]
     },
     "metadata": {},
     "output_type": "display_data"
    }
   ],
   "source": [
    "import numpy as np\n",
    "from matplotlib import pyplot as plt\n",
    "from sklearn.cluster import KMeans\n",
    "\n",
    "def cluster_centroids(classes, w, clusters, k):\n",
    "    results=[]\n",
    "    for i in range(k):\n",
    "        results.append(np.average(classes[clusters == i],weights = w[clusters ==i]))\n",
    "    return results\n",
    "\n",
    "def kmeans(classes, w, k=None, no_of_it=300):\n",
    "    #centroids = np.random.choice(classes, k, False)\n",
    "    centroids = []\n",
    "    value = 0\n",
    "    for _ in range(k):\n",
    "        centroids.append(classes[value])\n",
    "        value = value + int(len(classes)/k)\n",
    "\n",
    "    for n in range(no_of_it):\n",
    "        cen_dists=[]\n",
    "        for i in range(len(classes)):\n",
    "            dists = []\n",
    "            for j in range(len(centroids)):\n",
    "                dists.append(abs(classes[i] - centroids[j]))\n",
    "            cen_dists.append(dists)\n",
    "        \n",
    "        clusters = []\n",
    "        for i in range(len(cen_dists)):\n",
    "            dist = cen_dists[i]\n",
    "            clusters.append(dist.index(min(dist)))\n",
    "        clusters = np.array(clusters)\n",
    "\n",
    "        new_centroids = cluster_centroids(classes, w, clusters, k)\n",
    "        #print(n)\n",
    "        if np.array_equal(new_centroids, centroids):\n",
    "            break\n",
    "        else:\n",
    "            if(n == no_of_it):\n",
    "                print(\"Centroids did not converge\")\n",
    "\n",
    "        centroids = new_centroids\n",
    "\n",
    "    return clusters, centroids\n",
    "\n",
    "no_of_bins = int((src_band_array.max()-src_band_array.min())*1000)\n",
    "weights, bin_edges = np.histogram(src_band_array, bins = no_of_bins)\n",
    "zero_index = np.where(weights==0)\n",
    "w = np.delete(weights,zero_index)\n",
    "bins = []\n",
    "value = src_band_array.min()\n",
    "for i in range(no_of_bins):\n",
    "    bins.append(value)\n",
    "    value = value + 0.001\n",
    "bins = np.array(bins)\n",
    "classes = np.delete(bins,zero_index)\n",
    "\n",
    "cluster, cen = kmeans(classes, w, 11)\n",
    "\n",
    "plt.clf()\n",
    "plt.hist(src_band_array, bins = no_of_bins)\n",
    "y = np.zeros(11, dtype = int)\n",
    "plt.scatter(cen, y, c = 'r')\n",
    "plt.show()\n"
   ]
  },
  {
   "cell_type": "code",
   "execution_count": 7,
   "metadata": {},
   "outputs": [
    {
     "name": "stdout",
     "output_type": "stream",
     "text": [
      "16061\n",
      "[19  8  0 ...,  0  0  1]\n",
      "16061\n",
      "107.731674194\n",
      "91.6697463989\n",
      "[  91.6697464   91.6707464   91.6717464 ...,  107.7277464  107.7287464\n",
      "  107.7297464]\n",
      "16061\n",
      "0\n",
      "1\n",
      "2\n",
      "3\n",
      "4\n",
      "5\n",
      "6\n",
      "7\n",
      "8\n",
      "9\n",
      "10\n",
      "11\n",
      "12\n",
      "13\n",
      "14\n",
      "15\n",
      "16\n",
      "17\n",
      "18\n",
      "19\n",
      "20\n",
      "21\n",
      "22\n",
      "23\n",
      "24\n",
      "25\n",
      "26\n",
      "27\n",
      "28\n",
      "29\n",
      "30\n",
      "31\n",
      "32\n",
      "33\n",
      "34\n",
      "35\n",
      "36\n",
      "37\n",
      "38\n",
      "[ 0  0  0 ..., 10 10 10]\n",
      "[92.400344019414788, 93.494395255428913, 94.394483818384373, 95.498783888772991, 97.200294732789501, 98.91464711272414, 99.595124660906222, 101.31280413532403, 102.70985697923254, 104.32443801993641, 106.24029543394579]\n"
     ]
    }
   ],
   "source": [
    "import numpy\n",
    "import scipy\n",
    "def cluster_centroids(classes, w, clusters, k):\n",
    "    results=[]\n",
    "    for i in range(k):\n",
    "        results.append(np.average(classes[clusters == i],weights = w[clusters ==i]))\n",
    "    return results\n",
    "\n",
    "def kmeans(classes, w, k=None, no_of_it=300):\n",
    "    #centroids = np.random.choice(classes, k, False)\n",
    "    centroids = []\n",
    "    value = 0\n",
    "    for _ in range(k):\n",
    "        centroids.append(classes[value])\n",
    "        value = value + int(len(classes)/k)\n",
    "\n",
    "    for n in range(no_of_it):\n",
    "        cen_dists=[]\n",
    "        for i in range(len(classes)):\n",
    "            dists = []\n",
    "            for j in range(len(centroids)):\n",
    "                dists.append(abs(classes[i] - centroids[j]))\n",
    "            cen_dists.append(dists)\n",
    "        \n",
    "        clusters = []\n",
    "        for i in range(len(cen_dists)):\n",
    "            dist = cen_dists[i]\n",
    "            clusters.append(dist.index(min(dist)))\n",
    "        clusters = np.array(clusters)\n",
    "\n",
    "        new_centroids = cluster_centroids(classes, w, clusters, k)\n",
    "        #print(n)\n",
    "        if np.array_equal(new_centroids, centroids):\n",
    "            break\n",
    "        else:\n",
    "            if(n == no_of_it):\n",
    "                print(\"Centroids did not converge\")\n",
    "\n",
    "        centroids = new_centroids\n",
    "\n",
    "    return clusters, centroids\n",
    "\n",
    "no_of_bins = int((src_band_array.max()-src_band_array.min())*1000)\n",
    "print(no_of_bins)\n",
    "w, bin_edges = np.histogram(src_band_array, bins = no_of_bins)\n",
    "print(w)\n",
    "print(len(w))\n",
    "classes = []\n",
    "print(src_band_array.max())\n",
    "print(src_band_array.min())\n",
    "value = src_band_array.min()\n",
    "for i in range(no_of_bins):\n",
    "    classes.append(value)\n",
    "    value = value + 0.001\n",
    "classes = np.array(classes)\n",
    "print(classes)\n",
    "print(len(classes))\n",
    "\n",
    "cluster, cen = kmeans(classes, w, 11)\n",
    "\n",
    "print(cluster)\n",
    "print(sorted(cen))"
   ]
  },
  {
   "cell_type": "code",
   "execution_count": 24,
   "metadata": {},
   "outputs": [
    {
     "name": "stderr",
     "output_type": "stream",
     "text": [
      "INFO:DEM Dir is /home/malavika/test, DEM File is Mysore-airport-overall-site-dem.tif DEM Name without extension is Mysore-airport-overall-site-dem\n"
     ]
    },
    {
     "name": "stdout",
     "output_type": "stream",
     "text": [
      "[[627.15203857421875, '0', '0', '0'], [649.35292175641371, '255', '0', '0'], [691.79231672070841, '204', '51', '0'], [701.62053794919268, '255', '166', '77'], [704.99340781177557, '255', '210', '77'], [708.35256156187745, '153', '255', '153'], [711.30541461117434, '51', '204', '51'], [714.43463813896699, '0', '153', '51'], [717.73307138731366, '204', '203', '255'], [721.37889844096298, '128', '179', '255'], [725.2791073665793, '179', '128', '255'], [729.22215560121947, '255', '102', '255'], [742.69464111328125, '0', '0', '0']]\n",
      "0 0\n",
      "0 8192\n",
      "0 16384\n",
      "8192 0\n",
      "8192 8192\n",
      "8192 16384\n",
      "16384 0\n",
      "16384 8192\n",
      "16384 16384\n",
      "24576 0\n",
      "24576 8192\n",
      "24576 16384\n"
     ]
    },
    {
     "name": "stderr",
     "output_type": "stream",
     "text": [
      "INFO:Output colorized and hillshaded DEM is at - /home/malavika/test/Mysore-airport-overall-site-dem-crhs.tif\n",
      "INFO:Done\n"
     ]
    }
   ],
   "source": [
    "import combine_hillshaded_colorized\n",
    "import create_colorized_dem\n",
    "import csv\n",
    "elevation = sorted(cen)\n",
    "elevation.insert(0,src_band_array.min())\n",
    "elevation.append(src_band_array.max())\n",
    "\n",
    "arr = []\n",
    "new_arr=[]\n",
    "with open(\"/home/malavika/clrTxtFile.txt\") as csvfile:\n",
    "    reader = csv.reader(csvfile, delimiter=' ')\n",
    "    for row in reader:\n",
    "        arr.append(row)\n",
    "#print(arr)\n",
    "x = len(elevation)\n",
    "y = len(arr)/x\n",
    "for i in range(x):\n",
    "    j = int(y*i)\n",
    "    arr[j].insert(0,elevation[i])\n",
    "    new_arr.append(arr[j][:])\n",
    "print(new_arr)\n",
    "new_arr.append(['nv',000,000,000])\n",
    "\n",
    "with open(\"/home/malavika/test/clrTxtFile_mysore\",'w') as csvfile:\n",
    "    writer = csv.writer(csvfile, delimiter =' ')\n",
    "    for ar in new_arr:\n",
    "        writer.writerow(ar)\n",
    "create_colorized_dem.createColorAndHSDems(\"/home/malavika/test/Mysore-airport-overall-site-dem.tif\", \"/home/malavika/test/clrTxtFile_mysore.txt\")"
   ]
  },
  {
   "cell_type": "code",
   "execution_count": 8,
   "metadata": {},
   "outputs": [
    {
     "name": "stdout",
     "output_type": "stream",
     "text": [
      "50443\n",
      "[1 0 0 ..., 0 0 1]\n",
      "50443\n",
      "[1 2 2 ..., 1 1 1]\n",
      "47123\n",
      "113.563262939\n",
      "63.1199417114\n",
      "[  63.11994171   63.51094171   63.51194171 ...,  113.15994171  113.34394171\n",
      "  113.56194171]\n",
      "47123\n"
     ]
    },
    {
     "name": "stderr",
     "output_type": "stream",
     "text": [
      "INFO:DEM Dir is /home/malavika/Downloads, DEM File is ganges_internationale_solar_plant_2017_12_23_icr_3_outputs_clipped_global_solar_farm_2017_12_23_icr_3_rev3_dem_utm_clipped_global.tif DEM Name without extension is ganges_internationale_solar_plant_2017_12_23_icr_3_outputs_clipped_global_solar_farm_2017_12_23_icr_3_rev3_dem_utm_clipped_global\n"
     ]
    },
    {
     "name": "stdout",
     "output_type": "stream",
     "text": [
      "[ 0  0  0 ..., 10 10 10]\n",
      "[71.549945406634961, 77.403700951483543, 80.478156604771101, 83.113244563553991, 85.248605611871469, 87.134783328657008, 89.146757829276979, 91.035000605411895, 93.860825092380978, 97.552830607570669, 103.35413112915154]\n",
      "[[63.119941711425781, '0', '0', '0'], [71.549945406634961, '255', '0', '0'], [77.403700951483543, '204', '51', '0'], [80.478156604771101, '255', '166', '77'], [83.113244563553991, '255', '210', '77'], [85.248605611871469, '153', '255', '153'], [87.134783328657008, '51', '204', '51'], [89.146757829276979, '0', '153', '51'], [91.035000605411895, '204', '203', '255'], [93.860825092380978, '128', '179', '255'], [97.552830607570669, '179', '128', '255'], [103.35413112915154, '255', '102', '255'], [113.56326293945312, '0', '0', '0']]\n"
     ]
    },
    {
     "name": "stderr",
     "output_type": "stream",
     "text": [
      "INFO:Output colorized and hillshaded DEM is at - /home/malavika/Downloads/ganges_internationale_solar_plant_2017_12_23_icr_3_outputs_clipped_global_solar_farm_2017_12_23_icr_3_rev3_dem_utm_clipped_global-crhs.tif\n",
      "INFO:Done\n"
     ]
    },
    {
     "name": "stdout",
     "output_type": "stream",
     "text": [
      "0 0\n"
     ]
    }
   ],
   "source": [
    "import gdal\n",
    "import numpy as np\n",
    "import sys\n",
    "import argparse\n",
    "from sklearn.cluster import KMeans\n",
    "from matplotlib import pyplot as plt\n",
    "import pandas as pd\n",
    "import combine_hillshaded_colorized\n",
    "import create_colorized_dem\n",
    "import csv\n",
    "\n",
    "src_ds = gdal.Open( \"/home/malavika/Downloads/ganges_internationale_solar_plant_2017_12_23_icr_3_outputs_clipped_global_solar_farm_2017_12_23_icr_3_rev3_dem_utm_clipped_global.tif\" )\n",
    "src_band = src_ds.GetRasterBand(1).ReadAsArray().astype(np.float).flatten()\n",
    "no_data_val = src_ds.GetRasterBand(1).GetNoDataValue()\n",
    "no_data_index = np.where(src_band==no_data_val)\n",
    "src_band_array = np.delete(src_band,no_data_index)\n",
    "\n",
    "def cluster_centroids(classes, w, clusters, k):\n",
    "    results=[]\n",
    "    for i in range(k):\n",
    "        np.sum(w[clusters == i])\n",
    "        results.append(np.average(classes[clusters == i],weights = w[clusters ==i]))\n",
    "    return results\n",
    "\n",
    "def kmeans(classes, w, k=None, no_of_it=300):\n",
    "    #centroids = np.random.choice(classes, k, False)\n",
    "    centroids = []\n",
    "    value = 0\n",
    "    for _ in range(k):\n",
    "        centroids.append(classes[value])\n",
    "        value = value + int(len(classes)/k)\n",
    "\n",
    "    for n in range(no_of_it):\n",
    "        cen_dists=[]\n",
    "        for i in range(len(classes)):\n",
    "            dists = []\n",
    "            for j in range(len(centroids)):\n",
    "                dists.append(abs(classes[i] - centroids[j]))\n",
    "            cen_dists.append(dists)\n",
    "        \n",
    "        clusters = []\n",
    "        for i in range(len(cen_dists)):\n",
    "            dist = cen_dists[i]\n",
    "            clusters.append(dist.index(min(dist)))\n",
    "        clusters = np.array(clusters)\n",
    "\n",
    "        new_centroids = cluster_centroids(classes, w, clusters, k)\n",
    "        #print(n)\n",
    "        if np.array_equal(new_centroids, centroids):\n",
    "            break\n",
    "        else:\n",
    "            if(n == no_of_it):\n",
    "                print(\"Centroids did not converge\")\n",
    "\n",
    "        centroids = new_centroids\n",
    "\n",
    "    return clusters, centroids\n",
    "\n",
    "no_of_bins = int((src_band_array.max()-src_band_array.min())*1000)\n",
    "print(no_of_bins)\n",
    "weights, bin_edges = np.histogram(src_band_array, bins = no_of_bins)\n",
    "print(weights)\n",
    "print(len(weights))\n",
    "zero_index = np.where(weights==0)\n",
    "w = np.delete(weights,zero_index)\n",
    "print(w)\n",
    "print(len(w))\n",
    "bins = []\n",
    "print(src_band_array.max())\n",
    "print(src_band_array.min())\n",
    "value = src_band_array.min()\n",
    "for i in range(no_of_bins):\n",
    "    bins.append(value)\n",
    "    value = value + 0.001\n",
    "bins = np.array(bins)\n",
    "classes = np.delete(bins,zero_index)\n",
    "print(classes)\n",
    "print(len(classes))\n",
    "\n",
    "cluster, cen = kmeans(classes, w, 11)\n",
    "\n",
    "print(cluster)\n",
    "print(sorted(cen))\n",
    "\n",
    "elevation = sorted(cen)\n",
    "elevation.insert(0,src_band_array.min())\n",
    "elevation.append(src_band_array.max())\n",
    "\n",
    "arr = []\n",
    "new_arr=[]\n",
    "with open(\"/home/malavika/clrTxtFile.txt\") as csvfile:\n",
    "    reader = csv.reader(csvfile, delimiter=' ')\n",
    "    for row in reader:\n",
    "        arr.append(row)\n",
    "#print(arr)\n",
    "x = len(elevation)\n",
    "y = len(arr)/x\n",
    "for i in range(x):\n",
    "    j = int(y*i)\n",
    "    arr[j].insert(0,elevation[i])\n",
    "    new_arr.append(arr[j][:])\n",
    "print(new_arr)\n",
    "new_arr.append(['nv',000,000,000])\n",
    "\n",
    "with open(\"/home/malavika/Downloads/ganges_clrTxtFile.txt\",'w') as csvfile:\n",
    "    writer = csv.writer(csvfile, delimiter =' ')\n",
    "    for ar in new_arr:\n",
    "        writer.writerow(ar)\n",
    "create_colorized_dem.createColorAndHSDems(\"/home/malavika/Downloads/ganges_internationale_solar_plant_2017_12_23_icr_3_outputs_clipped_global_solar_farm_2017_12_23_icr_3_rev3_dem_utm_clipped_global.tif\", \"/home/malavika/Downloads/ganges_clrTxtFile.txt\")"
   ]
  },
  {
   "cell_type": "code",
   "execution_count": 2,
   "metadata": {},
   "outputs": [
    {
     "name": "stdout",
     "output_type": "stream",
     "text": [
      "[ 0  0  0 ..., 20 20 20] [101.14612710329708, 101.4080876891166, 101.91920230672365, 102.47996163404147, 103.23004175044581, 103.98557071140986, 104.71527808259529, 105.6780204149526, 106.65672940661295, 107.51018157983115, 108.02922428621127, 108.70728282036157, 109.12378204577229, 110.07241953588191, 110.42970614192036, 110.98822281886639, 111.85789148676261, 112.63835510971428, 112.79338442142365, 113.11815852031589, 115.96112508303085]\n",
      "113.11815852\n",
      "[[112.41815852031588, '0', '0', '0', ''], [112.4822228568687, '128', '0', '0'], [112.57611634227813, '160', '82', '45'], [112.63191320703785, '255', '0', '0'], [112.66236367924672, '255', '160', '122'], [112.73755482684069, '255', '140', '0'], [112.785547494919, '218', '165', '32'], [112.80944383206963, '255', '255', '0'], [112.95760294889047, '154', '205', '50'], [113.06910109253857, '0', '255', '0'], [113.09781422078362, '0', '128', '0'], [113.1189599310603, '60', '179', '113'], [113.13575248452626, '102', '205', '170'], [113.19474056726845, '0', '255', '255'], [113.26276230607854, '0', '139', '139'], [113.33183991978176, '0', '0', '255'], [113.41369945669527, '0', '0', '128'], [113.50896115605219, '128', '0', '128'], [113.58988004043906, '199', '21', '133'], [113.69709253067612, '255', '0', '255'], [113.81815852031589, '0', '0', '0']]\n"
     ]
    }
   ],
   "source": [
    "import gdal\n",
    "import numpy as np\n",
    "import sys\n",
    "import argparse\n",
    "from sklearn.cluster import KMeans\n",
    "from matplotlib import pyplot as plt\n",
    "import pandas as pd\n",
    "import combine_hillshaded_colorized\n",
    "import create_colorized_dem\n",
    "import csv\n",
    "import statistics\n",
    "\n",
    "src_ds = gdal.Open( \"/home/malavika/tharangini_formwork_09_27.tif\" )\n",
    "src_band = src_ds.GetRasterBand(1).ReadAsArray().astype(np.float).flatten()\n",
    "no_data_val = src_ds.GetRasterBand(1).GetNoDataValue()\n",
    "no_data_index = np.where(src_band==no_data_val)\n",
    "src_band_array = np.delete(src_band,no_data_index)\n",
    "\n",
    "def cluster_centroids(classes, w, clusters, k):\n",
    "    results=[]\n",
    "    for i in range(k):\n",
    "        results.append(np.average(classes[clusters == i],weights = w[clusters ==i]))\n",
    "    return results\n",
    "\n",
    "def kmeans(classes, w, k=None, no_of_it=300):\n",
    "    #centroids = np.random.choice(classes, k, False)\n",
    "    centroids = []\n",
    "    value = 0\n",
    "    for _ in range(k):\n",
    "        centroids.append(classes[value])\n",
    "        value = value + int(len(classes)/k)\n",
    "\n",
    "    for n in range(no_of_it):\n",
    "        cen_dists=[]\n",
    "        for i in range(len(classes)):\n",
    "            dists = []\n",
    "            for j in range(len(centroids)):\n",
    "                dists.append(abs(classes[i] - centroids[j]))\n",
    "            cen_dists.append(dists)\n",
    "        \n",
    "        clusters = []\n",
    "        for i in range(len(cen_dists)):\n",
    "            dist = cen_dists[i]\n",
    "            clusters.append(dist.index(min(dist)))\n",
    "        clusters = np.array(clusters)\n",
    "\n",
    "        new_centroids = cluster_centroids(classes, w, clusters, k)\n",
    "        #print(n)\n",
    "        if np.array_equal(new_centroids, centroids):\n",
    "            break\n",
    "        else:\n",
    "            if(n == no_of_it):\n",
    "                print(\"Centroids did not converge\")\n",
    "\n",
    "        centroids = new_centroids\n",
    "\n",
    "    return clusters, centroids\n",
    "\n",
    "rng = 0.7\n",
    "\n",
    "no_of_bins = int((src_band_array.max()-src_band_array.min())*1000)\n",
    "weights, bin_edges = np.histogram(src_band_array, bins = no_of_bins)\n",
    "zero_index = np.where(weights==0)\n",
    "w = np.delete(weights,zero_index)\n",
    "bins = []\n",
    "value = src_band_array.min()\n",
    "for i in range(no_of_bins):\n",
    "    bins.append(value)\n",
    "    value = value + 0.001\n",
    "bins = np.array(bins)\n",
    "classes = np.delete(bins,zero_index)\n",
    "\n",
    "with open(\"/home/malavika/clrspectrum.txt\") as csvfile:\n",
    "    reader = csv.reader(csvfile, delimiter=' ')\n",
    "    data = len(list(reader))\n",
    "\n",
    "cluster, cen = kmeans(classes, w, data)\n",
    "print(cluster,cen)\n",
    "floor = cen[statistics.mode(cluster)]\n",
    "print(floor)\n",
    "range_array = src_band_array[(src_band_array<=floor+rng) & (src_band_array>=floor-rng)]\n",
    "\n",
    "no_of_bins = int((range_array.max()-range_array.min())*1000)\n",
    "weights, bin_edges = np.histogram(range_array, bins = no_of_bins)\n",
    "zero_index = np.where(weights==0)\n",
    "w = np.delete(weights,zero_index)\n",
    "bins = []\n",
    "value = range_array.min()\n",
    "for i in range(no_of_bins):\n",
    "    bins.append(value)\n",
    "    value = value + 0.001\n",
    "bins = np.array(bins)\n",
    "classes = np.delete(bins,zero_index)\n",
    "new_cluster, new_cen = kmeans(classes, w, data-2)\n",
    "elevation = sorted(new_cen)\n",
    "elevation.insert(0,floor-rng)\n",
    "elevation.append(floor+rng)\n",
    "\n",
    "arr = []\n",
    "new_arr=[]\n",
    "with open(\"/home/malavika/clrspectrum.txt\") as csvfile:\n",
    "    reader = csv.reader(csvfile, delimiter=' ')\n",
    "    for row in reader:\n",
    "        arr.append(row)\n",
    "#print(arr)\n",
    "x = len(elevation)\n",
    "y = len(arr)/x\n",
    "for i in range(x):\n",
    "    j = int(y*i)\n",
    "    arr[j].insert(0,elevation[i])\n",
    "    new_arr.append(arr[j][:])\n",
    "print(new_arr)\n",
    "new_arr.append(['nv',000,000,000])\n",
    "\n",
    "with open(\"/home/malavika/weighted_clrspectrum.txt\",'w') as csvfile:\n",
    "    writer = csv.writer(csvfile, delimiter =' ')\n",
    "    for ar in new_arr:\n",
    "        writer.writerow(ar)\n",
    "#create_colorized_dem.createColorAndHSDems(\"/home/malavika/tharangini_formwork_09_27.tif\", \"/home/malavika/weighted_21_clrspectrum.txt\")"
   ]
  },
  {
   "cell_type": "code",
   "execution_count": 20,
   "metadata": {},
   "outputs": [
    {
     "data": {
      "image/png": "[encoded data removed]",
      "text/plain": [
       "<matplotlib.figure.Figure at 0x7f4e8057d400>"
      ]
     },
     "metadata": {},
     "output_type": "display_data"
    }
   ],
   "source": [
    "from sklearn.cluster import MiniBatchKMeans, KMeans\n",
    "scores = []\n",
    "for i in range(1,20):\n",
    "    scores.append(MiniBatchKMeans(n_clusters = i, batch_size = 4000).fit(src_band_array.reshape(-1,1)).score(src_band_array.reshape(-1,1)))\n",
    "plt.clf()\n",
    "plt.plot(range(1,20),scores)\n",
    "plt.show()"
   ]
  },
  {
   "cell_type": "code",
   "execution_count": 24,
   "metadata": {},
   "outputs": [
    {
     "name": "stdout",
     "output_type": "stream",
     "text": [
      "[-6167375.0602725856, -1798456.922820857, -390004.2829176017, -243051.98810893012, -144279.53677624356, -100998.85559273347, -61860.401159942885, -52213.554258692966, -40914.490604066312, -34756.258344528178, -25187.554303608289, -22406.569770495407, -19504.505883844788, -16251.473318402974, -13199.050684180493, -11790.797700301104, -11166.084273656454, -11295.87999992563, -8695.0153055732608]\n",
      "[  4.36891814e+06   1.40845264e+06   1.46952295e+05   9.87724513e+04\n",
      "   4.32806812e+04   3.91384544e+04   9.64684690e+03   1.12990637e+04\n",
      "   6.15823226e+03   9.56870404e+03   2.78098453e+03   2.90206389e+03\n",
      "   3.25303257e+03   3.05242263e+03   1.40825298e+03   6.24713427e+02\n",
      "  -1.29795726e+02   2.60086469e+03]\n",
      "[ -2.96046550e+06  -1.26150035e+06  -4.81798435e+04  -5.54917701e+04\n",
      "  -4.14222675e+03  -2.94916075e+04   1.65221675e+03  -5.14083140e+03\n",
      "   3.41047178e+03  -6.78771951e+03   1.21079354e+02   3.50968679e+02\n",
      "  -2.00609931e+02  -1.64416965e+03  -7.83539557e+02  -7.54509153e+02\n",
      "   2.73066042e+03]\n",
      "3410.47178138\n",
      "8\n"
     ]
    }
   ],
   "source": [
    "print(scores)\n",
    "first_der = np.diff(scores, n=1)\n",
    "print(first_der)\n",
    "second_der = np.diff(first_der, n=1)\n",
    "print(second_der)\n",
    "elbow = abs(max(second_der))\n",
    "print(elbow)\n",
    "print(second_der.tolist().index(elbow))"
   ]
  },
  {
   "cell_type": "code",
   "execution_count": 26,
   "metadata": {},
   "outputs": [
    {
     "name": "stderr",
     "output_type": "stream",
     "text": [
      "INFO:DEM Dir is /home/malavika, DEM File is tharangini_formwork_09_27.tif DEM Name without extension is tharangini_formwork_09_27\n"
     ]
    },
    {
     "name": "stdout",
     "output_type": "stream",
     "text": [
      "[[112.4266885478462, '0', '0', '0', ''], [112.53566686617062, '128', '0', '0'], [112.62825637805761, '160', '82', '45'], [112.66288128337209, '255', '0', '0'], [112.73727147306876, '255', '160', '122'], [112.7842773794355, '255', '140', '0'], [112.8075771551879, '218', '165', '32'], [112.9043307058245, '255', '255', '0'], [113.00689859400929, '154', '205', '50'], [113.06129057526675, '0', '255', '0'], [113.08339514588448, '0', '128', '0'], [113.10259329144026, '60', '179', '113'], [113.11678587547848, '102', '205', '170'], [113.12915816245244, '0', '255', '255'], [113.14159766538066, '0', '139', '139'], [113.242826571153, '0', '0', '255'], [113.35007292444809, '0', '0', '128'], [113.47703202140148, '128', '0', '128'], [113.57955027853198, '199', '21', '133'], [113.69503286922682, '255', '0', '255'], [113.8266885478462, '0', '0', '0']]\n"
     ]
    },
    {
     "name": "stderr",
     "output_type": "stream",
     "text": [
      "INFO:Output colorized and hillshaded DEM is at - /home/malavika/tharangini_formwork_09_27-crhs.tif\n",
      "INFO:Done\n"
     ]
    },
    {
     "name": "stdout",
     "output_type": "stream",
     "text": [
      "0 0\n"
     ]
    }
   ],
   "source": [
    "from sklearn.cluster import MiniBatchKMeans, KMeans\n",
    "import csv\n",
    "import statistics\n",
    "elevation = []\n",
    "rng = 0.7\n",
    "with open(\"/home/malavika/clrspectrum.txt\") as csvfile:\n",
    "    reader = csv.reader(csvfile, delimiter=' ')\n",
    "    data = len(list(reader))\n",
    "kmeans = MiniBatchKMeans(n_clusters = data, batch_size = 10000).fit(src_band_array.reshape(-1,1))\n",
    "cluster_center = np.array([x[0] for x in kmeans.cluster_centers_])\n",
    "center_index = kmeans.predict(src_band_array.reshape(-1,1))\n",
    "floor = cluster_center[statistics.mode(center_index)]\n",
    "\n",
    "range_array = src_band_array[(src_band_array<=floor+rng) & (src_band_array>=floor-rng)]\n",
    "kmeans_range = MiniBatchKMeans(n_clusters = data-2, batch_size = 10000).fit(range_array.reshape(-1,1))\n",
    "cluster_center_range = np.array([x[0] for x in kmeans_range.cluster_centers_])\n",
    "elevation.extend(sorted(cluster_center_range.tolist()))\n",
    "elevation.insert(0,floor-rng)\n",
    "elevation.append(floor+rng)\n",
    "\n",
    "import combine_hillshaded_colorized\n",
    "import create_colorized_dem\n",
    "import csv\n",
    "\n",
    "arr = []\n",
    "new_arr=[]\n",
    "with open(\"/home/malavika/clrspectrum.txt\") as csvfile:\n",
    "    reader = csv.reader(csvfile, delimiter=' ')\n",
    "    for row in reader:\n",
    "        arr.append(row)\n",
    "#print(arr)\n",
    "x = len(elevation)\n",
    "y = len(arr)/x\n",
    "for i in range(x):\n",
    "    j = int(y*i)\n",
    "    arr[j].insert(0,elevation[i])\n",
    "    new_arr.append(arr[j][:])\n",
    "print(new_arr)\n",
    "new_arr.append(['nv',000,000,000])\n",
    "\n",
    "with open(\"/home/malavika/minibatch10000_21_clrspectrum.txt\",'w') as csvfile:\n",
    "    writer = csv.writer(csvfile, delimiter =' ')\n",
    "    for ar in new_arr:\n",
    "        writer.writerow(ar)\n",
    "create_colorized_dem.createColorAndHSDems(\"/home/malavika/tharangini_formwork_09_27.tif\", \"/home/malavika/minibatch10000_21_clrspectrum.txt\")"
   ]
  },
  {
   "cell_type": "code",
   "execution_count": 4,
   "metadata": {},
   "outputs": [
    {
     "ename": "ValueError",
     "evalue": "specify dem type",
     "output_type": "error",
     "traceback": [
      "\u001b[0;31m---------------------------------------------------------------------------\u001b[0m",
      "\u001b[0;31mValueError\u001b[0m                                Traceback (most recent call last)",
      "\u001b[0;32m<ipython-input-4-4172d4ac15f2>\u001b[0m in \u001b[0;36m<module>\u001b[0;34m()\u001b[0m\n\u001b[1;32m      2\u001b[0m \u001b[0mtypes\u001b[0m \u001b[0;34m=\u001b[0m \u001b[0;34m[\u001b[0m\u001b[0;34m'single'\u001b[0m\u001b[0;34m,\u001b[0m \u001b[0;34m'formwork'\u001b[0m\u001b[0;34m,\u001b[0m \u001b[0;34m'time-series'\u001b[0m\u001b[0;34m]\u001b[0m\u001b[0;34m\u001b[0m\u001b[0m\n\u001b[1;32m      3\u001b[0m \u001b[0;32mif\u001b[0m \u001b[0mdem_type\u001b[0m \u001b[0;32mnot\u001b[0m \u001b[0;32min\u001b[0m \u001b[0mtypes\u001b[0m\u001b[0;34m:\u001b[0m\u001b[0;34m\u001b[0m\u001b[0m\n\u001b[0;32m----> 4\u001b[0;31m     \u001b[0;32mraise\u001b[0m \u001b[0mValueError\u001b[0m\u001b[0;34m(\u001b[0m\u001b[0;34m\"specify dem type\"\u001b[0m\u001b[0;34m)\u001b[0m\u001b[0;34m\u001b[0m\u001b[0m\n\u001b[0m",
      "\u001b[0;31mValueError\u001b[0m: specify dem type"
     ]
    }
   ],
   "source": [
    "dem_type = 'double'\n",
    "types = ['single', 'formwork', 'time-series']\n",
    "if dem_type not in types:\n",
    "    raise ValueError(\"specify dem type\")"
   ]
  },
  {
   "cell_type": "code",
   "execution_count": 9,
   "metadata": {},
   "outputs": [
    {
     "name": "stdout",
     "output_type": "stream",
     "text": [
      "[['0', '0', '0'], ['255', '0', '0'], ['204', '51', '0'], ['255', '166', '77'], ['255', '210', '77'], ['153', '255', '153'], ['51', '204', '51'], ['0', '153', '51'], ['204', '203', '255'], ['128', '179', '255'], ['179', '128', '255'], ['255', '102', '255'], ['0', '0', '0']]\n",
      "13\n"
     ]
    }
   ],
   "source": [
    "arr = []\n",
    "new_arr=[]\n",
    "with open(\"/home/malavika/clrTxtFile.txt\") as csvfile:\n",
    "    reader = csv.reader(csvfile, delimiter=' ')\n",
    "    for row in reader:\n",
    "        arr.append(row)\n",
    "print(arr)\n",
    "print(len(arr))"
   ]
  },
  {
   "cell_type": "code",
   "execution_count": 15,
   "metadata": {},
   "outputs": [
    {
     "data": {
      "text/plain": [
       "(5, 4, -3)"
      ]
     },
     "execution_count": 15,
     "metadata": {},
     "output_type": "execute_result"
    }
   ],
   "source": [
    "def meh(x,z,w):\n",
    "    d = x-z-w\n",
    "    return d\n",
    "def blah(x,y,z=1,w=2):\n",
    "    s = x+y\n",
    "    b = z \n",
    "    c = meh(x,z,w)\n",
    "    return s, b, c\n",
    "blah(3,2,4)"
   ]
  },
  {
   "cell_type": "code",
   "execution_count": null,
   "metadata": {
    "collapsed": true
   },
   "outputs": [],
   "source": []
  }
 ],
 "metadata": {
  "kernelspec": {
   "display_name": "Python [conda env:vimana]",
   "language": "python",
   "name": "conda-env-vimana-py"
  },
  "language_info": {
   "codemirror_mode": {
    "name": "ipython",
    "version": 3
   },
   "file_extension": ".py",
   "mimetype": "text/x-python",
   "name": "python",
   "nbconvert_exporter": "python",
   "pygments_lexer": "ipython3",
   "version": "3.5.3"
  }
 },
 "nbformat": 4,
 "nbformat_minor": 2
}
