{
 "cells": [
  {
   "cell_type": "code",
   "execution_count": 3,
   "metadata": {
    "collapsed": true
   },
   "outputs": [],
   "source": [
    "import subprocess\n",
    "import glob\n"
   ]
  },
  {
   "cell_type": "code",
   "execution_count": 5,
   "metadata": {
    "collapsed": true
   },
   "outputs": [],
   "source": [
    "files = glob.glob(\"/home/malavika/Planar*\")\n",
    "#print(files)\n",
    "for file in files:\n",
    "    subprocess.call([\"gdaldem\", \"color-relief\", file,\"/home/malavika/clrFile.txt\",file.replace(\".tif\",\"-colorised.tif\")])\n"
   ]
  },
  {
   "cell_type": "code",
   "execution_count": null,
   "metadata": {
    "collapsed": true
   },
   "outputs": [],
   "source": [
    "clr_file = pd.read_csv(\"/home/malavika/clrTxtFile.txt\", header=None, delim_whitespace=True)\n",
    "clr_file.loc[:10,0] = []\n",
    "pd_clr_file = pd.DataFrame(clr_file)\n",
    "pd_clr_file.to_csv(\"/home/malavika/clr_file.txt\", sep = \" \", float_format='string', header=None, index=None)"
   ]
  }
 ],
 "metadata": {
  "kernelspec": {
   "display_name": "Python [conda env:vimana]",
   "language": "python",
   "name": "conda-env-vimana-py"
  },
  "language_info": {
   "codemirror_mode": {
    "name": "ipython",
    "version": 3
   },
   "file_extension": ".py",
   "mimetype": "text/x-python",
   "name": "python",
   "nbconvert_exporter": "python",
   "pygments_lexer": "ipython3",
   "version": "3.5.3"
  }
 },
 "nbformat": 4,
 "nbformat_minor": 2
}
