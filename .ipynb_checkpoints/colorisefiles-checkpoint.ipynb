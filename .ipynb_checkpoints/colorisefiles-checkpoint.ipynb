{
 "cells": [
  {
   "cell_type": "code",
   "execution_count": 12,
   "metadata": {
    "collapsed": true
   },
   "outputs": [],
   "source": [
    "import gdal\n",
    "import numpy as np\n",
    "import sys\n",
    "import argparse\n",
    "import sklearn\n",
    "from matplotlib import pyplot as plt\n",
    "import pandas as pd\n",
    "# this allows GDAL to throw Python Exceptions\n",
    "gdal.UseExceptions()\n"
   ]
  },
  {
   "cell_type": "code",
   "execution_count": 23,
   "metadata": {},
   "outputs": [],
   "source": [
    "import subprocess\n",
    "import glob\n",
    "files = glob.glob(\"/home/malavika/thecolumn_dems/*\")\n",
    "for file in files:\n",
    "    subprocess.call([\"python\", \"formwork.py\", file, \"/home/malavika/clrTxtFile.txt\", \"/home/malavika/clrTxtFile.txt\".replace(\".txt\",\"_output.txt\"), \"--max_value\", \"103\", \"--min_value\", \"93\", \"--bool\"])\n",
    "    "
   ]
  },
  {
   "cell_type": "code",
   "execution_count": 7,
   "metadata": {},
   "outputs": [
    {
     "name": "stdout",
     "output_type": "stream",
     "text": [
      "11\n"
     ]
    }
   ],
   "source": [
    "import csv\n",
    "with open(\"/home/malavika/clrTxtFile.txt\") as csvfile:\n",
    "    reader = csv.reader(csvfile, delimiter=' ')\n",
    "    data = list(reader)\n",
    "    print(len(data))"
   ]
  },
  {
   "cell_type": "code",
   "execution_count": 9,
   "metadata": {
    "collapsed": true
   },
   "outputs": [],
   "source": [
    "src_ds = gdal.Open( \"/home/malavika/clippedimage.tif\" )\n",
    "src_band = src_ds.GetRasterBand(1).ReadAsArray().astype(np.float).flatten()\n",
    "no_data_val = src_ds.GetRasterBand(1).GetNoDataValue()\n",
    "no_data_index = np.where(src_band==no_data_val)\n",
    "src_band_array = np.delete(src_band,no_data_index)"
   ]
  },
  {
   "cell_type": "code",
   "execution_count": 15,
   "metadata": {},
   "outputs": [
    {
     "name": "stdout",
     "output_type": "stream",
     "text": [
      "[9 9 9 ..., 3 3 3]\n",
      "[[  92.91798222]\n",
      " [  99.05302877]\n",
      " [  95.64146992]\n",
      " [ 102.70953056]\n",
      " [  94.50892327]\n",
      " [  97.10600666]\n",
      " [  93.41122602]\n",
      " [ 101.31535933]\n",
      " [ 104.67254369]\n",
      " [  98.48269473]\n",
      " [  99.6633868 ]]\n"
     ]
    }
   ],
   "source": [
    "kmeans = sklearn.cluster.KMeans(n_clusters = 11).fit(src_band_array.reshape(-1,1))\n",
    "cluster_center = np.array(kmeans.cluster_centers_)\n",
    "center_index = kmeans.predict(src_band_array.reshape(-1,1))\n",
    "print(center_index)\n",
    "print(cluster_center)"
   ]
  },
  {
   "cell_type": "code",
   "execution_count": 21,
   "metadata": {},
   "outputs": [
    {
     "data": {
      "text/plain": [
       "array([ 99.05302877])"
      ]
     },
     "execution_count": 21,
     "metadata": {},
     "output_type": "execute_result"
    }
   ],
   "source": [
    "import statistics\n",
    "statistics.mode(center_index)\n",
    "cluster_center[statistics.mode(center_index)]"
   ]
  },
  {
   "cell_type": "code",
   "execution_count": null,
   "metadata": {
    "collapsed": true
   },
   "outputs": [],
   "source": []
  }
 ],
 "metadata": {
  "kernelspec": {
   "display_name": "Python [conda env:vimana]",
   "language": "python",
   "name": "conda-env-vimana-py"
  },
  "language_info": {
   "codemirror_mode": {
    "name": "ipython",
    "version": 3
   },
   "file_extension": ".py",
   "mimetype": "text/x-python",
   "name": "python",
   "nbconvert_exporter": "python",
   "pygments_lexer": "ipython3",
   "version": "3.5.3"
  }
 },
 "nbformat": 4,
 "nbformat_minor": 2
}
