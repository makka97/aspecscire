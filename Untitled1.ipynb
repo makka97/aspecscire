{
 "cells": [
  {
   "cell_type": "code",
   "execution_count": 1,
   "metadata": {
    "collapsed": true
   },
   "outputs": [],
   "source": [
    "import gdal\n",
    "import numpy as np\n",
    "import sys\n",
    "import argparse\n",
    "from sklearn.cluster import KMeans\n",
    "from matplotlib import pyplot as plt\n",
    "import pandas as pd\n",
    "# this allows GDAL to throw Python Exceptions\n",
    "gdal.UseExceptions()\n"
   ]
  },
  {
   "cell_type": "code",
   "execution_count": 2,
   "metadata": {
    "collapsed": true
   },
   "outputs": [],
   "source": [
    "src_ds = gdal.Open( \"/home/malavika/clippedimage.tif\" )\n",
    "src_band = src_ds.GetRasterBand(1).ReadAsArray().astype(np.float).flatten()\n",
    "no_data_val = src_ds.GetRasterBand(1).GetNoDataValue()\n",
    "no_data_index = np.where(src_band==no_data_val)\n",
    "src_band_array = np.delete(src_band,no_data_index)\n"
   ]
  },
  {
   "cell_type": "code",
   "execution_count": 4,
   "metadata": {
    "scrolled": true
   },
   "outputs": [
    {
     "name": "stderr",
     "output_type": "stream",
     "text": [
      "usage: __main__.py [-h] central_value error max_value min_value\n",
      "__main__.py: error: argument central_value: invalid int value: '/run/user/1003/jupyter/kernel-b73eb4d6-f991-4029-8669-f35c5789d963.json'\n"
     ]
    },
    {
     "ename": "SystemExit",
     "evalue": "2",
     "output_type": "error",
     "traceback": [
      "An exception has occurred, use %tb to see the full traceback.\n",
      "\u001b[0;31mSystemExit\u001b[0m\u001b[0;31m:\u001b[0m 2\n"
     ]
    },
    {
     "name": "stderr",
     "output_type": "stream",
     "text": [
      "/home/madhavm/anaconda3/envs/vimana/lib/python3.5/site-packages/IPython/core/interactiveshell.py:2870: UserWarning: To exit: use 'exit', 'quit', or Ctrl-D.\n",
      "  warn(\"To exit: use 'exit', 'quit', or Ctrl-D.\", stacklevel=1)\n"
     ]
    }
   ],
   "source": [
    "parser = argparse.ArgumentParser()\n",
    "parser.add_argument(\"layer_elevation_file\", type = argparse.FileType('r'), help = \"file which describes the layers and corresponding names of the DEM\")\n",
    "parser.add_argument(\"max_value\", type = int, help = \"maximum value in the range\")\n",
    "parser.add_argument(\"min_value\", type = int, help = \"minimum value in the range\")\n",
    "args = parser.parse_args()\n"
   ]
  },
  {
   "cell_type": "code",
   "execution_count": 5,
   "metadata": {},
   "outputs": [
    {
     "data": {
      "text/plain": [
       "True"
      ]
     },
     "execution_count": 5,
     "metadata": {},
     "output_type": "execute_result"
    }
   ],
   "source": [
    "elevation = []\n",
    "if args.layer_elevation_file:\n",
    "    layer_data = json.load(args.layer_elevation_file)\n",
    "    no_of_layers = len(layer_data)\n",
    "    exp_elevation = sorted(np.array([layer for layer in layer_data[layer]]))\n",
    "    kmeans = sklearn.cluster.KMeans(n_clusters = no_of_layers).fit(src_band_array.reshape(-1,1))\n",
    "    cluster_center = np.array(kmeans.cluster_centers_)\n",
    "    elevation.extend(sorted(cluster_center))\n",
    "    for i in len(layer_data):\n",
    "        layer_data[exp_elevation[i]] = elevation[i]\n",
    "    \n",
    "elif (args.max_value and args.min_value):\n",
    "    value = args.min_value\n",
    "    for i in range(0,11):\n",
    "        elevation.append(value)\n",
    "        value = value + ((args.max_value - args.min_value)/10)\n",
    "    "
   ]
  },
  {
   "cell_type": "code",
   "execution_count": null,
   "metadata": {
    "collapsed": true
   },
   "outputs": [],
   "source": []
  },
  {
   "cell_type": "code",
   "execution_count": 32,
   "metadata": {},
   "outputs": [
    {
     "name": "stdout",
     "output_type": "stream",
     "text": [
      "[800, 810.0, 820.0, 830.0, 840.0, 850.0, 860.0, 870.0, 880.0, 890.0, 900.0]\n"
     ]
    },
    {
     "data": {
      "text/plain": [
       "list"
      ]
     },
     "execution_count": 32,
     "metadata": {},
     "output_type": "execute_result"
    }
   ],
   "source": [
    "central_value = 0\n",
    "error = 10\n",
    "min_value = 800\n",
    "max_value= 900\n",
    "elevation = []\n",
    "if bool(central_value):\n",
    "    elevation.extend([(central_value - error), (central_value), (central_value + error)])\n",
    "elif bool(max_value and min_value):\n",
    "    value = min_value \n",
    "    for i in range(0,11):\n",
    "        elevation.extend([value])\n",
    "        value = value + ((max_value - min_value)/10)\n",
    "        \n",
    "print(elevation) \n",
    "type(elevation)\n"
   ]
  },
  {
   "cell_type": "code",
   "execution_count": 28,
   "metadata": {},
   "outputs": [],
   "source": [
    "clr_file = pd.read_csv(\"/home/malavika/test.txt\", header=None, delim_whitespace=True)\n",
    "clr_file.loc[:2,0] = elevation\n",
    "pd_clr_file = pd.DataFrame(clr_file)\n",
    "pd_clr_file.to_csv(\"/home/malavika/testout.txt\", sep = \" \", float_format='string', header=None, index=None)"
   ]
  },
  {
   "cell_type": "code",
   "execution_count": 73,
   "metadata": {},
   "outputs": [
    {
     "ename": "KeyError",
     "evalue": "85",
     "output_type": "error",
     "traceback": [
      "\u001b[0;31m---------------------------------------------------------------------------\u001b[0m",
      "\u001b[0;31mKeyError\u001b[0m                                  Traceback (most recent call last)",
      "\u001b[0;32m<ipython-input-73-c3e84ad9db6a>\u001b[0m in \u001b[0;36m<module>\u001b[0;34m()\u001b[0m\n\u001b[1;32m      4\u001b[0m \u001b[0mexp_elevation\u001b[0m \u001b[0;34m=\u001b[0m \u001b[0msorted\u001b[0m\u001b[0;34m(\u001b[0m\u001b[0mlist\u001b[0m\u001b[0;34m(\u001b[0m\u001b[0mlayer_data\u001b[0m\u001b[0;34m.\u001b[0m\u001b[0mvalues\u001b[0m\u001b[0;34m(\u001b[0m\u001b[0;34m)\u001b[0m\u001b[0;34m)\u001b[0m\u001b[0;34m)\u001b[0m\u001b[0;34m\u001b[0m\u001b[0m\n\u001b[1;32m      5\u001b[0m \u001b[0melevation\u001b[0m \u001b[0;34m=\u001b[0m \u001b[0;34m[\u001b[0m\u001b[0;36m44\u001b[0m\u001b[0;34m,\u001b[0m\u001b[0;36m87\u001b[0m\u001b[0;34m,\u001b[0m\u001b[0;36m90\u001b[0m\u001b[0;34m]\u001b[0m\u001b[0;34m\u001b[0m\u001b[0m\n\u001b[0;32m----> 6\u001b[0;31m \u001b[0mlayer_data\u001b[0m\u001b[0;34m[\u001b[0m\u001b[0;36m85\u001b[0m\u001b[0;34m]\u001b[0m\u001b[0;34m\u001b[0m\u001b[0m\n\u001b[0m\u001b[1;32m      7\u001b[0m \u001b[0;34m\u001b[0m\u001b[0m\n",
      "\u001b[0;31mKeyError\u001b[0m: 85"
     ]
    }
   ],
   "source": [
    "i = 0\n",
    "j=0\n",
    "layer_data = {'bar': 90, 'floor': 85, 'sunken_floor': 80}\n",
    "exp_elevation = sorted(list(layer_data.values()))\n",
    "elevation = [44,87,90]\n",
    "layer_data[85]\n",
    "\n"
   ]
  },
  {
   "cell_type": "code",
   "execution_count": null,
   "metadata": {
    "collapsed": true
   },
   "outputs": [],
   "source": []
  }
 ],
 "metadata": {
  "kernelspec": {
   "display_name": "Python [conda env:vimana]",
   "language": "python",
   "name": "conda-env-vimana-py"
  },
  "language_info": {
   "codemirror_mode": {
    "name": "ipython",
    "version": 3
   },
   "file_extension": ".py",
   "mimetype": "text/x-python",
   "name": "python",
   "nbconvert_exporter": "python",
   "pygments_lexer": "ipython3",
   "version": "3.5.3"
  }
 },
 "nbformat": 4,
 "nbformat_minor": 2
}
